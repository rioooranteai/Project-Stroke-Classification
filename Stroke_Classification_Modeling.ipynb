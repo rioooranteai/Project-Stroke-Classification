{
  "nbformat": 4,
  "nbformat_minor": 0,
  "metadata": {
    "colab": {
      "provenance": []
    },
    "kernelspec": {
      "name": "python3",
      "display_name": "Python 3"
    },
    "language_info": {
      "name": "python"
    }
  },
  "cells": [
    {
      "cell_type": "markdown",
      "source": [
        "# **Install & Import Modules**"
      ],
      "metadata": {
        "id": "lK_I1IRZd4M6"
      }
    },
    {
      "cell_type": "code",
      "source": [
        "!pip install optuna catboost -q"
      ],
      "metadata": {
        "colab": {
          "base_uri": "https://localhost:8080/"
        },
        "id": "k9QOTsww8hNV",
        "outputId": "688cb686-1709-474f-8ba1-7826b1a1cedf"
      },
      "execution_count": 1,
      "outputs": [
        {
          "output_type": "stream",
          "name": "stdout",
          "text": [
            "\u001b[2K   \u001b[90m━━━━━━━━━━━━━━━━━━━━━━━━━━━━━━━━━━━━━━━━\u001b[0m \u001b[32m386.6/386.6 kB\u001b[0m \u001b[31m7.1 MB/s\u001b[0m eta \u001b[36m0:00:00\u001b[0m\n",
            "\u001b[2K   \u001b[90m━━━━━━━━━━━━━━━━━━━━━━━━━━━━━━━━━━━━━━━━\u001b[0m \u001b[32m99.2/99.2 MB\u001b[0m \u001b[31m9.1 MB/s\u001b[0m eta \u001b[36m0:00:00\u001b[0m\n",
            "\u001b[2K   \u001b[90m━━━━━━━━━━━━━━━━━━━━━━━━━━━━━━━━━━━━━━━━\u001b[0m \u001b[32m242.5/242.5 kB\u001b[0m \u001b[31m7.1 MB/s\u001b[0m eta \u001b[36m0:00:00\u001b[0m\n",
            "\u001b[?25h"
          ]
        }
      ]
    },
    {
      "cell_type": "code",
      "execution_count": 2,
      "metadata": {
        "id": "8JXg0Zipdq8f"
      },
      "outputs": [],
      "source": [
        "import pandas as pd\n",
        "import numpy as np\n",
        "import matplotlib.pyplot as plt\n",
        "import seaborn as sns\n",
        "import warnings\n",
        "import kagglehub\n",
        "import os\n",
        "import optuna\n",
        "\n",
        "from catboost import CatBoostClassifier\n",
        "from sklearn.impute import KNNImputer\n",
        "from sklearn.model_selection import train_test_split, StratifiedKFold, cross_val_score\n",
        "from sklearn.metrics import (\n",
        "    classification_report, confusion_matrix, ConfusionMatrixDisplay,\n",
        "    roc_auc_score, accuracy_score, precision_score, recall_score, f1_score, roc_curve\n",
        ")\n",
        "from scipy.stats.mstats import winsorize\n",
        "from xgboost import XGBClassifier\n",
        "from lightgbm import LGBMClassifier\n",
        "from sklearn.ensemble import RandomForestClassifier\n",
        "from sklearn.tree import DecisionTreeClassifier\n",
        "\n",
        "warnings.filterwarnings('ignore')"
      ]
    },
    {
      "cell_type": "markdown",
      "source": [
        "# **Download Data**"
      ],
      "metadata": {
        "id": "GlfIecMsd_rG"
      }
    },
    {
      "cell_type": "code",
      "source": [
        "path = kagglehub.dataset_download(\"fedesoriano/stroke-prediction-dataset\")\n",
        "\n",
        "print(\"Path to dataset files:\", path)"
      ],
      "metadata": {
        "colab": {
          "base_uri": "https://localhost:8080/"
        },
        "id": "8BjQCNP7e68H",
        "outputId": "c426cd04-7dc9-4d03-f39d-259167a58247"
      },
      "execution_count": 3,
      "outputs": [
        {
          "output_type": "stream",
          "name": "stdout",
          "text": [
            "Path to dataset files: /kaggle/input/stroke-prediction-dataset\n"
          ]
        }
      ]
    },
    {
      "cell_type": "markdown",
      "source": [
        "# **Load Dataset**"
      ],
      "metadata": {
        "id": "-HEBVUCKe_R0"
      }
    },
    {
      "cell_type": "code",
      "source": [
        "full_path = os.path.join(path, \"healthcare-dataset-stroke-data.csv\")\n",
        "df = pd.read_csv(full_path)"
      ],
      "metadata": {
        "id": "2Ci_8Q82e_px"
      },
      "execution_count": 8,
      "outputs": []
    },
    {
      "cell_type": "markdown",
      "source": [
        "# **Data Preparation**"
      ],
      "metadata": {
        "id": "pGQUh6W1fRUD"
      }
    },
    {
      "cell_type": "code",
      "source": [
        "df_prep = df.copy()"
      ],
      "metadata": {
        "id": "-kUoivj-1TA9"
      },
      "execution_count": 9,
      "outputs": []
    },
    {
      "cell_type": "markdown",
      "source": [
        "## Drop Kolom yang Tidak Relevan (ID, Duplikat)"
      ],
      "metadata": {
        "id": "sJdfume20RT1"
      }
    },
    {
      "cell_type": "code",
      "source": [
        "df_prep = df_prep.drop(columns=['id'])\n",
        "df_prep = df_prep.drop_duplicates()"
      ],
      "metadata": {
        "id": "6MAiMIpkfIrs"
      },
      "execution_count": 10,
      "outputs": []
    },
    {
      "cell_type": "markdown",
      "source": [
        "## Encoding Variabel Kategorikal"
      ],
      "metadata": {
        "id": "6QD4N3fV19L-"
      }
    },
    {
      "cell_type": "code",
      "source": [
        "df_prep['gender'] = df_prep['gender'].apply(lambda x: 0 if x == 'Male' else 1 if x == \"Female\" else 2)\n",
        "df_prep['ever_married'] = df_prep['ever_married'].apply(lambda x: 0 if x == 'Yes' else 1)\n",
        "df_prep['Residence_type'] = df_prep['Residence_type'].apply(lambda x: 0 if x == 'Urban' else 1)\n",
        "\n",
        "smoke_mapping = {\n",
        "    'never smoked': 0,\n",
        "    'formerly smoked': 1,\n",
        "    'smokes': 2,\n",
        "    'Unknown': 3\n",
        "}\n",
        "df_prep['smoking_status'] = df_prep['smoking_status'].map(smoke_mapping)\n",
        "df_prep = pd.get_dummies(df_prep, columns=['work_type'], drop_first=True, prefix='work_type', dtype=int)"
      ],
      "metadata": {
        "id": "TEu0BYkC18ft"
      },
      "execution_count": 11,
      "outputs": []
    },
    {
      "cell_type": "markdown",
      "source": [
        "## Menangani Missing Values"
      ],
      "metadata": {
        "id": "gKePQO2Y1EJ-"
      }
    },
    {
      "cell_type": "code",
      "source": [
        "imputer = KNNImputer(n_neighbors=5)\n",
        "bmi_imputed = imputer.fit_transform(df_prep)\n",
        "df_imputed = pd.DataFrame(bmi_imputed, columns=df_prep.columns)"
      ],
      "metadata": {
        "id": "rKIgPg1m0cPi"
      },
      "execution_count": 12,
      "outputs": []
    },
    {
      "cell_type": "markdown",
      "source": [
        "## Menangani Outlier"
      ],
      "metadata": {
        "id": "HaICsVR12wVd"
      }
    },
    {
      "cell_type": "code",
      "source": [
        "con_columns = ['avg_glucose_level', 'bmi']\n",
        "df_imputed[con_columns] = df_imputed[con_columns].apply(lambda x: winsorize(x, (0.05, 0.05)))"
      ],
      "metadata": {
        "id": "1_OQt2nI5c0B"
      },
      "execution_count": 13,
      "outputs": []
    },
    {
      "cell_type": "markdown",
      "source": [
        "## Feature Engineering"
      ],
      "metadata": {
        "id": "bkZo2MWg53Na"
      }
    },
    {
      "cell_type": "code",
      "source": [
        "df_imputed['age_group'] = pd.cut(\n",
        "    df_imputed['age'],\n",
        "    bins=[0, 30, 50, 100],\n",
        "    labels=[0, 1, 2]\n",
        ").astype(int)\n",
        "\n",
        "df_imputed['glucose_bmi_interaction'] = (\n",
        "    df_imputed['avg_glucose_level'] * df_imputed['bmi']\n",
        ")\n",
        "df_imputed['glucose_per_bmi'] = (\n",
        "    df_imputed['avg_glucose_level'] / (df_imputed['bmi'] + 1e-3)\n",
        ")\n",
        "\n",
        "df_imputed['age_x_smoking'] = (\n",
        "    df_imputed['age'] * df_imputed['smoking_status']\n",
        ")\n",
        "\n",
        "df_imputed['chronic_risk'] = (\n",
        "    (df_imputed['hypertension'] == 1) &\n",
        "    (df_imputed['heart_disease'] == 1)\n",
        ").astype(int)\n",
        "\n",
        "df_imputed['is_employed'] = (\n",
        "    df_imputed['work_type_Private'] +\n",
        "    df_imputed['work_type_Self-employed'] +\n",
        "    df_imputed['work_type_Never_worked']\n",
        ")\n",
        "\n",
        "df_imputed['gender_hyper'] = (\n",
        "    df_imputed['gender'] * df_imputed['hypertension']\n",
        ")"
      ],
      "metadata": {
        "id": "FYbPWHzC6Mi6"
      },
      "execution_count": 14,
      "outputs": []
    },
    {
      "cell_type": "markdown",
      "source": [
        "## Split Data untuk Pelatihan dan Test\n"
      ],
      "metadata": {
        "id": "uwxoSyCL7Tjq"
      }
    },
    {
      "cell_type": "code",
      "source": [
        "X = df_imputed.drop(columns=['stroke'])\n",
        "y = df_imputed['stroke']\n",
        "\n",
        "X_train, X_test, y_train, y_test = train_test_split(X, y, test_size=0.2, random_state=42, stratify=y)"
      ],
      "metadata": {
        "id": "p7eQ0s2V7RSr"
      },
      "execution_count": 15,
      "outputs": []
    },
    {
      "cell_type": "markdown",
      "source": [
        "# **Modeling**"
      ],
      "metadata": {
        "id": "j5tRsAl97kO8"
      }
    },
    {
      "cell_type": "markdown",
      "source": [
        "## Model Selection"
      ],
      "metadata": {
        "id": "DK94ICYu-JJM"
      }
    },
    {
      "cell_type": "code",
      "source": [
        "models = {\n",
        "    'RandomForest': RandomForestClassifier(random_state=42),\n",
        "    'DecisionTree': DecisionTreeClassifier(random_state=42),\n",
        "    'XGBoost': XGBClassifier(use_label_encoder=False, eval_metric='logloss', random_state=42),\n",
        "    'LightGBM': LGBMClassifier(random_state=42, verbose=-1),\n",
        "    'Catboost': CatBoostClassifier(verbose=0, random_state=42)\n",
        "}\n",
        "\n",
        "skf_non_umap = StratifiedKFold(n_splits=5, shuffle=True, random_state=42)\n",
        "model_scores_non_umap = {}\n",
        "\n",
        "for name, model in models.items():\n",
        "    scores = cross_val_score(model, X, y, cv=skf_non_umap, scoring='f1_macro')\n",
        "    model_scores_non_umap[name] = np.mean(scores)\n",
        "    print(f\"{name}: F1-weighted Score = {model_scores_non_umap[name]:.4f}\")\n",
        "\n",
        "sorted_models_non_umap = sorted(model_scores_non_umap.items(), key=lambda x: x[1], reverse=True)"
      ],
      "metadata": {
        "colab": {
          "base_uri": "https://localhost:8080/"
        },
        "id": "pNLi1l-67iNb",
        "outputId": "a75ed09c-29cb-43ae-bf21-d7ec8f6a04f1"
      },
      "execution_count": 16,
      "outputs": [
        {
          "output_type": "stream",
          "name": "stdout",
          "text": [
            "RandomForest: F1-weighted Score = 0.4873\n",
            "DecisionTree: F1-weighted Score = 0.5382\n",
            "XGBoost: F1-weighted Score = 0.5226\n",
            "LightGBM: F1-weighted Score = 0.5064\n",
            "Catboost: F1-weighted Score = 0.5044\n"
          ]
        }
      ]
    },
    {
      "cell_type": "markdown",
      "source": [
        "## Hyperparamter Tuning pada Model Catboost"
      ],
      "metadata": {
        "id": "-2wPIrtWTZHG"
      }
    },
    {
      "cell_type": "code",
      "source": [
        "def objective(trial):\n",
        "    \"\"\"\n",
        "    Fungsi objektif untuk Optuna dengan DecisionTreeClassifier\n",
        "    \"\"\"\n",
        "    params = {\n",
        "        'criterion': trial.suggest_categorical('criterion', ['gini', 'entropy']),\n",
        "        'max_depth': trial.suggest_int('max_depth', 2, 20),\n",
        "        'min_samples_split': trial.suggest_int('min_samples_split', 2, 20),\n",
        "        'min_samples_leaf': trial.suggest_int('min_samples_leaf', 1, 20),\n",
        "        'max_features': trial.suggest_categorical('max_features', [None, 'sqrt', 'log2']),\n",
        "        'random_state': 42,\n",
        "    }\n",
        "\n",
        "    model = DecisionTreeClassifier(**params)\n",
        "\n",
        "    model.fit(X_train, y_train)\n",
        "\n",
        "    y_pred = model.predict(X_test)\n",
        "    f1 = f1_score(y_test, y_pred, average='macro')\n",
        "\n",
        "    return f1"
      ],
      "metadata": {
        "id": "sLviCbVy9ATX"
      },
      "execution_count": 19,
      "outputs": []
    },
    {
      "cell_type": "code",
      "source": [
        "study = optuna.create_study(\n",
        "        direction='maximize',\n",
        "        sampler=optuna.samplers.TPESampler(seed=42),\n",
        "        pruner=optuna.pruners.MedianPruner(n_startup_trials=10, n_warmup_steps=5)\n",
        "    )\n",
        "\n",
        "study.optimize(objective, n_trials=100, timeout=3600)"
      ],
      "metadata": {
        "colab": {
          "base_uri": "https://localhost:8080/"
        },
        "id": "aHJVu5hbVJ44",
        "outputId": "564260d1-0a2e-4d53-fd6c-8589644ee1d7"
      },
      "execution_count": 20,
      "outputs": [
        {
          "output_type": "stream",
          "name": "stderr",
          "text": [
            "[I 2025-05-29 16:12:43,549] A new study created in memory with name: no-name-b649061d-a932-4dd7-a5f8-88fbfc91fe93\n",
            "[I 2025-05-29 16:12:43,619] Trial 0 finished with value: 0.526646403242148 and parameters: {'criterion': 'entropy', 'max_depth': 15, 'min_samples_split': 13, 'min_samples_leaf': 4, 'max_features': 'log2'}. Best is trial 0 with value: 0.526646403242148.\n",
            "[I 2025-05-29 16:12:43,666] Trial 1 finished with value: 0.48746238716148443 and parameters: {'criterion': 'entropy', 'max_depth': 2, 'min_samples_split': 20, 'min_samples_leaf': 17, 'max_features': None}. Best is trial 0 with value: 0.526646403242148.\n",
            "[I 2025-05-29 16:12:43,699] Trial 2 finished with value: 0.48746238716148443 and parameters: {'criterion': 'entropy', 'max_depth': 10, 'min_samples_split': 7, 'min_samples_leaf': 13, 'max_features': 'log2'}. Best is trial 0 with value: 0.526646403242148.\n",
            "[I 2025-05-29 16:12:43,730] Trial 3 finished with value: 0.48746238716148443 and parameters: {'criterion': 'entropy', 'max_depth': 5, 'min_samples_split': 11, 'min_samples_leaf': 12, 'max_features': 'sqrt'}. Best is trial 0 with value: 0.526646403242148.\n",
            "[I 2025-05-29 16:12:43,768] Trial 4 finished with value: 0.5176263793496305 and parameters: {'criterion': 'entropy', 'max_depth': 20, 'min_samples_split': 17, 'min_samples_leaf': 7, 'max_features': 'sqrt'}. Best is trial 0 with value: 0.526646403242148.\n",
            "[I 2025-05-29 16:12:43,797] Trial 5 finished with value: 0.48746238716148443 and parameters: {'criterion': 'entropy', 'max_depth': 2, 'min_samples_split': 19, 'min_samples_leaf': 6, 'max_features': None}. Best is trial 0 with value: 0.526646403242148.\n",
            "[I 2025-05-29 16:12:43,832] Trial 6 finished with value: 0.48746238716148443 and parameters: {'criterion': 'gini', 'max_depth': 20, 'min_samples_split': 16, 'min_samples_leaf': 19, 'max_features': 'log2'}. Best is trial 0 with value: 0.526646403242148.\n",
            "[I 2025-05-29 16:12:43,904] Trial 7 finished with value: 0.48746238716148443 and parameters: {'criterion': 'entropy', 'max_depth': 2, 'min_samples_split': 8, 'min_samples_leaf': 8, 'max_features': 'sqrt'}. Best is trial 0 with value: 0.526646403242148.\n",
            "[I 2025-05-29 16:12:43,946] Trial 8 finished with value: 0.48746238716148443 and parameters: {'criterion': 'entropy', 'max_depth': 4, 'min_samples_split': 17, 'min_samples_leaf': 2, 'max_features': None}. Best is trial 0 with value: 0.526646403242148.\n",
            "[I 2025-05-29 16:12:44,045] Trial 9 finished with value: 0.48617395676219205 and parameters: {'criterion': 'entropy', 'max_depth': 15, 'min_samples_split': 15, 'min_samples_leaf': 16, 'max_features': 'sqrt'}. Best is trial 0 with value: 0.526646403242148.\n",
            "[I 2025-05-29 16:12:44,249] Trial 10 finished with value: 0.5447255880256593 and parameters: {'criterion': 'gini', 'max_depth': 14, 'min_samples_split': 2, 'min_samples_leaf': 1, 'max_features': 'log2'}. Best is trial 10 with value: 0.5447255880256593.\n",
            "[I 2025-05-29 16:12:44,432] Trial 11 finished with value: 0.5447255880256593 and parameters: {'criterion': 'gini', 'max_depth': 14, 'min_samples_split': 2, 'min_samples_leaf': 1, 'max_features': 'log2'}. Best is trial 10 with value: 0.5447255880256593.\n",
            "[I 2025-05-29 16:12:44,529] Trial 12 finished with value: 0.5007327796775769 and parameters: {'criterion': 'gini', 'max_depth': 13, 'min_samples_split': 2, 'min_samples_leaf': 1, 'max_features': 'log2'}. Best is trial 10 with value: 0.5447255880256593.\n",
            "[I 2025-05-29 16:12:44,645] Trial 13 finished with value: 0.5160984848484849 and parameters: {'criterion': 'gini', 'max_depth': 10, 'min_samples_split': 2, 'min_samples_leaf': 4, 'max_features': 'log2'}. Best is trial 10 with value: 0.5447255880256593.\n",
            "[I 2025-05-29 16:12:44,799] Trial 14 finished with value: 0.5618087736918459 and parameters: {'criterion': 'gini', 'max_depth': 17, 'min_samples_split': 5, 'min_samples_leaf': 1, 'max_features': 'log2'}. Best is trial 14 with value: 0.5618087736918459.\n",
            "[I 2025-05-29 16:12:44,863] Trial 15 finished with value: 0.5681203515889114 and parameters: {'criterion': 'gini', 'max_depth': 17, 'min_samples_split': 6, 'min_samples_leaf': 4, 'max_features': 'log2'}. Best is trial 15 with value: 0.5681203515889114.\n",
            "[I 2025-05-29 16:12:44,954] Trial 16 finished with value: 0.5226358148893361 and parameters: {'criterion': 'gini', 'max_depth': 18, 'min_samples_split': 6, 'min_samples_leaf': 10, 'max_features': 'log2'}. Best is trial 15 with value: 0.5681203515889114.\n",
            "[I 2025-05-29 16:12:45,027] Trial 17 finished with value: 0.5681203515889114 and parameters: {'criterion': 'gini', 'max_depth': 18, 'min_samples_split': 5, 'min_samples_leaf': 4, 'max_features': 'log2'}. Best is trial 15 with value: 0.5681203515889114.\n",
            "[I 2025-05-29 16:12:45,108] Trial 18 finished with value: 0.5146306339430707 and parameters: {'criterion': 'gini', 'max_depth': 17, 'min_samples_split': 10, 'min_samples_leaf': 4, 'max_features': 'log2'}. Best is trial 15 with value: 0.5681203515889114.\n",
            "[I 2025-05-29 16:12:45,350] Trial 19 finished with value: 0.5332323742217735 and parameters: {'criterion': 'gini', 'max_depth': 8, 'min_samples_split': 5, 'min_samples_leaf': 9, 'max_features': None}. Best is trial 15 with value: 0.5681203515889114.\n",
            "[I 2025-05-29 16:12:45,423] Trial 20 finished with value: 0.5659879970834034 and parameters: {'criterion': 'gini', 'max_depth': 12, 'min_samples_split': 9, 'min_samples_leaf': 6, 'max_features': 'log2'}. Best is trial 15 with value: 0.5681203515889114.\n",
            "[I 2025-05-29 16:12:45,542] Trial 21 finished with value: 0.5659879970834034 and parameters: {'criterion': 'gini', 'max_depth': 12, 'min_samples_split': 9, 'min_samples_leaf': 6, 'max_features': 'log2'}. Best is trial 15 with value: 0.5681203515889114.\n",
            "[I 2025-05-29 16:12:45,608] Trial 22 finished with value: 0.5602110841845401 and parameters: {'criterion': 'gini', 'max_depth': 18, 'min_samples_split': 5, 'min_samples_leaf': 5, 'max_features': 'log2'}. Best is trial 15 with value: 0.5681203515889114.\n",
            "[I 2025-05-29 16:12:45,676] Trial 23 finished with value: 0.5562310030395137 and parameters: {'criterion': 'gini', 'max_depth': 17, 'min_samples_split': 13, 'min_samples_leaf': 3, 'max_features': 'log2'}. Best is trial 15 with value: 0.5681203515889114.\n",
            "[I 2025-05-29 16:12:45,741] Trial 24 finished with value: 0.5200444008026299 and parameters: {'criterion': 'gini', 'max_depth': 11, 'min_samples_split': 4, 'min_samples_leaf': 7, 'max_features': 'log2'}. Best is trial 15 with value: 0.5681203515889114.\n",
            "[I 2025-05-29 16:12:45,830] Trial 25 finished with value: 0.4994674855210479 and parameters: {'criterion': 'gini', 'max_depth': 7, 'min_samples_split': 8, 'min_samples_leaf': 5, 'max_features': 'log2'}. Best is trial 15 with value: 0.5681203515889114.\n",
            "[I 2025-05-29 16:12:45,903] Trial 26 finished with value: 0.5020497311827957 and parameters: {'criterion': 'gini', 'max_depth': 16, 'min_samples_split': 7, 'min_samples_leaf': 9, 'max_features': 'log2'}. Best is trial 15 with value: 0.5681203515889114.\n",
            "[I 2025-05-29 16:12:46,003] Trial 27 finished with value: 0.5763532306375695 and parameters: {'criterion': 'gini', 'max_depth': 19, 'min_samples_split': 12, 'min_samples_leaf': 3, 'max_features': 'log2'}. Best is trial 27 with value: 0.5763532306375695.\n",
            "[I 2025-05-29 16:12:46,123] Trial 28 finished with value: 0.558901021032628 and parameters: {'criterion': 'gini', 'max_depth': 19, 'min_samples_split': 11, 'min_samples_leaf': 3, 'max_features': None}. Best is trial 27 with value: 0.5763532306375695.\n",
            "[I 2025-05-29 16:12:46,199] Trial 29 finished with value: 0.5562310030395137 and parameters: {'criterion': 'gini', 'max_depth': 19, 'min_samples_split': 13, 'min_samples_leaf': 3, 'max_features': 'sqrt'}. Best is trial 27 with value: 0.5763532306375695.\n",
            "[I 2025-05-29 16:12:46,288] Trial 30 finished with value: 0.48746238716148443 and parameters: {'criterion': 'gini', 'max_depth': 15, 'min_samples_split': 13, 'min_samples_leaf': 11, 'max_features': 'log2'}. Best is trial 27 with value: 0.5763532306375695.\n",
            "[I 2025-05-29 16:12:46,399] Trial 31 finished with value: 0.49996843434343435 and parameters: {'criterion': 'gini', 'max_depth': 16, 'min_samples_split': 10, 'min_samples_leaf': 5, 'max_features': 'log2'}. Best is trial 27 with value: 0.5763532306375695.\n",
            "[I 2025-05-29 16:12:46,502] Trial 32 finished with value: 0.5681203515889114 and parameters: {'criterion': 'gini', 'max_depth': 19, 'min_samples_split': 4, 'min_samples_leaf': 4, 'max_features': 'log2'}. Best is trial 27 with value: 0.5763532306375695.\n",
            "[I 2025-05-29 16:12:46,570] Trial 33 finished with value: 0.48746238716148443 and parameters: {'criterion': 'gini', 'max_depth': 19, 'min_samples_split': 4, 'min_samples_leaf': 14, 'max_features': 'log2'}. Best is trial 27 with value: 0.5763532306375695.\n",
            "[I 2025-05-29 16:12:46,654] Trial 34 finished with value: 0.5681203515889114 and parameters: {'criterion': 'gini', 'max_depth': 20, 'min_samples_split': 4, 'min_samples_leaf': 4, 'max_features': 'log2'}. Best is trial 27 with value: 0.5763532306375695.\n",
            "[I 2025-05-29 16:12:46,719] Trial 35 finished with value: 0.5426269859028865 and parameters: {'criterion': 'gini', 'max_depth': 18, 'min_samples_split': 7, 'min_samples_leaf': 2, 'max_features': 'log2'}. Best is trial 27 with value: 0.5763532306375695.\n",
            "[I 2025-05-29 16:12:46,892] Trial 36 finished with value: 0.5549638428645874 and parameters: {'criterion': 'gini', 'max_depth': 16, 'min_samples_split': 3, 'min_samples_leaf': 8, 'max_features': None}. Best is trial 27 with value: 0.5763532306375695.\n",
            "[I 2025-05-29 16:12:46,958] Trial 37 finished with value: 0.5299221799557445 and parameters: {'criterion': 'entropy', 'max_depth': 20, 'min_samples_split': 6, 'min_samples_leaf': 3, 'max_features': 'sqrt'}. Best is trial 27 with value: 0.5763532306375695.\n",
            "[I 2025-05-29 16:12:47,025] Trial 38 finished with value: 0.5522101799723882 and parameters: {'criterion': 'gini', 'max_depth': 19, 'min_samples_split': 14, 'min_samples_leaf': 7, 'max_features': 'log2'}. Best is trial 27 with value: 0.5763532306375695.\n",
            "[I 2025-05-29 16:12:47,089] Trial 39 finished with value: 0.5508706083568901 and parameters: {'criterion': 'entropy', 'max_depth': 18, 'min_samples_split': 6, 'min_samples_leaf': 2, 'max_features': 'log2'}. Best is trial 27 with value: 0.5763532306375695.\n",
            "[I 2025-05-29 16:12:47,156] Trial 40 finished with value: 0.48746238716148443 and parameters: {'criterion': 'gini', 'max_depth': 20, 'min_samples_split': 11, 'min_samples_leaf': 20, 'max_features': 'sqrt'}. Best is trial 27 with value: 0.5763532306375695.\n",
            "[I 2025-05-29 16:12:47,231] Trial 41 finished with value: 0.5681203515889114 and parameters: {'criterion': 'gini', 'max_depth': 20, 'min_samples_split': 4, 'min_samples_leaf': 4, 'max_features': 'log2'}. Best is trial 27 with value: 0.5763532306375695.\n",
            "[I 2025-05-29 16:12:47,320] Trial 42 finished with value: 0.5602110841845401 and parameters: {'criterion': 'gini', 'max_depth': 17, 'min_samples_split': 3, 'min_samples_leaf': 5, 'max_features': 'log2'}. Best is trial 27 with value: 0.5763532306375695.\n",
            "[I 2025-05-29 16:12:47,450] Trial 43 finished with value: 0.5644886363636363 and parameters: {'criterion': 'gini', 'max_depth': 19, 'min_samples_split': 3, 'min_samples_leaf': 6, 'max_features': 'log2'}. Best is trial 27 with value: 0.5763532306375695.\n",
            "[I 2025-05-29 16:12:47,623] Trial 44 finished with value: 0.5293487041273148 and parameters: {'criterion': 'entropy', 'max_depth': 18, 'min_samples_split': 20, 'min_samples_leaf': 2, 'max_features': 'log2'}. Best is trial 27 with value: 0.5763532306375695.\n",
            "[I 2025-05-29 16:12:47,806] Trial 45 finished with value: 0.5883902574294033 and parameters: {'criterion': 'gini', 'max_depth': 20, 'min_samples_split': 8, 'min_samples_leaf': 4, 'max_features': None}. Best is trial 45 with value: 0.5883902574294033.\n",
            "[I 2025-05-29 16:12:47,979] Trial 46 finished with value: 0.6010569618352701 and parameters: {'criterion': 'gini', 'max_depth': 16, 'min_samples_split': 8, 'min_samples_leaf': 7, 'max_features': None}. Best is trial 46 with value: 0.6010569618352701.\n",
            "[I 2025-05-29 16:12:48,150] Trial 47 finished with value: 0.5549638428645874 and parameters: {'criterion': 'gini', 'max_depth': 16, 'min_samples_split': 8, 'min_samples_leaf': 8, 'max_features': None}. Best is trial 46 with value: 0.6010569618352701.\n",
            "[I 2025-05-29 16:12:48,414] Trial 48 finished with value: 0.6097250509164969 and parameters: {'criterion': 'entropy', 'max_depth': 14, 'min_samples_split': 9, 'min_samples_leaf': 7, 'max_features': None}. Best is trial 48 with value: 0.6097250509164969.\n",
            "[I 2025-05-29 16:12:48,763] Trial 49 finished with value: 0.6097250509164969 and parameters: {'criterion': 'entropy', 'max_depth': 14, 'min_samples_split': 12, 'min_samples_leaf': 7, 'max_features': None}. Best is trial 48 with value: 0.6097250509164969.\n",
            "[I 2025-05-29 16:12:48,885] Trial 50 finished with value: 0.5575270592551825 and parameters: {'criterion': 'entropy', 'max_depth': 14, 'min_samples_split': 12, 'min_samples_leaf': 11, 'max_features': None}. Best is trial 48 with value: 0.6097250509164969.\n",
            "[I 2025-05-29 16:12:49,070] Trial 51 finished with value: 0.5778432368376503 and parameters: {'criterion': 'entropy', 'max_depth': 13, 'min_samples_split': 10, 'min_samples_leaf': 7, 'max_features': None}. Best is trial 48 with value: 0.6097250509164969.\n",
            "[I 2025-05-29 16:12:49,255] Trial 52 finished with value: 0.5457338873321094 and parameters: {'criterion': 'entropy', 'max_depth': 13, 'min_samples_split': 10, 'min_samples_leaf': 9, 'max_features': None}. Best is trial 48 with value: 0.6097250509164969.\n",
            "[I 2025-05-29 16:12:49,440] Trial 53 finished with value: 0.593387295925367 and parameters: {'criterion': 'entropy', 'max_depth': 15, 'min_samples_split': 9, 'min_samples_leaf': 7, 'max_features': None}. Best is trial 48 with value: 0.6097250509164969.\n",
            "[I 2025-05-29 16:12:49,592] Trial 54 finished with value: 0.5457338873321094 and parameters: {'criterion': 'entropy', 'max_depth': 13, 'min_samples_split': 9, 'min_samples_leaf': 8, 'max_features': None}. Best is trial 48 with value: 0.6097250509164969.\n",
            "[I 2025-05-29 16:12:49,757] Trial 55 finished with value: 0.5447798941559274 and parameters: {'criterion': 'entropy', 'max_depth': 14, 'min_samples_split': 8, 'min_samples_leaf': 10, 'max_features': None}. Best is trial 48 with value: 0.6097250509164969.\n",
            "[I 2025-05-29 16:12:49,965] Trial 56 finished with value: 0.5042756539235412 and parameters: {'criterion': 'entropy', 'max_depth': 12, 'min_samples_split': 10, 'min_samples_leaf': 13, 'max_features': None}. Best is trial 48 with value: 0.6097250509164969.\n",
            "[I 2025-05-29 16:12:50,146] Trial 57 finished with value: 0.5680365977971706 and parameters: {'criterion': 'entropy', 'max_depth': 15, 'min_samples_split': 9, 'min_samples_leaf': 6, 'max_features': None}. Best is trial 48 with value: 0.6097250509164969.\n",
            "[I 2025-05-29 16:12:50,363] Trial 58 finished with value: 0.5710233029381966 and parameters: {'criterion': 'entropy', 'max_depth': 11, 'min_samples_split': 12, 'min_samples_leaf': 7, 'max_features': None}. Best is trial 48 with value: 0.6097250509164969.\n",
            "[I 2025-05-29 16:12:50,602] Trial 59 finished with value: 0.5232816572918095 and parameters: {'criterion': 'entropy', 'max_depth': 15, 'min_samples_split': 9, 'min_samples_leaf': 8, 'max_features': None}. Best is trial 48 with value: 0.6097250509164969.\n",
            "[I 2025-05-29 16:12:50,785] Trial 60 finished with value: 0.6097250509164969 and parameters: {'criterion': 'entropy', 'max_depth': 14, 'min_samples_split': 11, 'min_samples_leaf': 7, 'max_features': None}. Best is trial 48 with value: 0.6097250509164969.\n",
            "[I 2025-05-29 16:12:51,034] Trial 61 finished with value: 0.6097250509164969 and parameters: {'criterion': 'entropy', 'max_depth': 14, 'min_samples_split': 11, 'min_samples_leaf': 7, 'max_features': None}. Best is trial 48 with value: 0.6097250509164969.\n",
            "[I 2025-05-29 16:12:51,219] Trial 62 finished with value: 0.5232816572918095 and parameters: {'criterion': 'entropy', 'max_depth': 14, 'min_samples_split': 12, 'min_samples_leaf': 9, 'max_features': None}. Best is trial 48 with value: 0.6097250509164969.\n",
            "[I 2025-05-29 16:12:51,378] Trial 63 finished with value: 0.5403724934503116 and parameters: {'criterion': 'entropy', 'max_depth': 9, 'min_samples_split': 11, 'min_samples_leaf': 6, 'max_features': None}. Best is trial 48 with value: 0.6097250509164969.\n",
            "[I 2025-05-29 16:12:51,440] Trial 64 finished with value: 0.5447798941559274 and parameters: {'criterion': 'entropy', 'max_depth': 15, 'min_samples_split': 15, 'min_samples_leaf': 10, 'max_features': None}. Best is trial 48 with value: 0.6097250509164969.\n",
            "[I 2025-05-29 16:12:51,497] Trial 65 finished with value: 0.5872865049766016 and parameters: {'criterion': 'entropy', 'max_depth': 12, 'min_samples_split': 7, 'min_samples_leaf': 5, 'max_features': None}. Best is trial 48 with value: 0.6097250509164969.\n",
            "[I 2025-05-29 16:12:51,557] Trial 66 finished with value: 0.6097250509164969 and parameters: {'criterion': 'entropy', 'max_depth': 14, 'min_samples_split': 8, 'min_samples_leaf': 7, 'max_features': None}. Best is trial 48 with value: 0.6097250509164969.\n",
            "[I 2025-05-29 16:12:51,615] Trial 67 finished with value: 0.6097250509164969 and parameters: {'criterion': 'entropy', 'max_depth': 14, 'min_samples_split': 9, 'min_samples_leaf': 7, 'max_features': None}. Best is trial 48 with value: 0.6097250509164969.\n",
            "[I 2025-05-29 16:12:51,675] Trial 68 finished with value: 0.5232816572918095 and parameters: {'criterion': 'entropy', 'max_depth': 14, 'min_samples_split': 11, 'min_samples_leaf': 8, 'max_features': None}. Best is trial 48 with value: 0.6097250509164969.\n",
            "[I 2025-05-29 16:12:51,750] Trial 69 finished with value: 0.5778432368376503 and parameters: {'criterion': 'entropy', 'max_depth': 13, 'min_samples_split': 11, 'min_samples_leaf': 7, 'max_features': None}. Best is trial 48 with value: 0.6097250509164969.\n",
            "[I 2025-05-29 16:12:51,806] Trial 70 finished with value: 0.5706975560081466 and parameters: {'criterion': 'entropy', 'max_depth': 10, 'min_samples_split': 14, 'min_samples_leaf': 9, 'max_features': None}. Best is trial 48 with value: 0.6097250509164969.\n",
            "[I 2025-05-29 16:12:51,864] Trial 71 finished with value: 0.593387295925367 and parameters: {'criterion': 'entropy', 'max_depth': 15, 'min_samples_split': 9, 'min_samples_leaf': 7, 'max_features': None}. Best is trial 48 with value: 0.6097250509164969.\n",
            "[I 2025-05-29 16:12:51,922] Trial 72 finished with value: 0.5693540373452073 and parameters: {'criterion': 'entropy', 'max_depth': 16, 'min_samples_split': 10, 'min_samples_leaf': 6, 'max_features': None}. Best is trial 48 with value: 0.6097250509164969.\n",
            "[I 2025-05-29 16:12:51,977] Trial 73 finished with value: 0.5232816572918095 and parameters: {'criterion': 'entropy', 'max_depth': 14, 'min_samples_split': 8, 'min_samples_leaf': 8, 'max_features': None}. Best is trial 48 with value: 0.6097250509164969.\n",
            "[I 2025-05-29 16:12:52,037] Trial 74 finished with value: 0.5778432368376503 and parameters: {'criterion': 'entropy', 'max_depth': 13, 'min_samples_split': 10, 'min_samples_leaf': 7, 'max_features': None}. Best is trial 48 with value: 0.6097250509164969.\n",
            "[I 2025-05-29 16:12:52,093] Trial 75 finished with value: 0.5353124509147424 and parameters: {'criterion': 'entropy', 'max_depth': 14, 'min_samples_split': 8, 'min_samples_leaf': 17, 'max_features': None}. Best is trial 48 with value: 0.6097250509164969.\n",
            "[I 2025-05-29 16:12:52,151] Trial 76 finished with value: 0.5680365977971706 and parameters: {'criterion': 'entropy', 'max_depth': 15, 'min_samples_split': 9, 'min_samples_leaf': 6, 'max_features': None}. Best is trial 48 with value: 0.6097250509164969.\n",
            "[I 2025-05-29 16:12:52,214] Trial 77 finished with value: 0.5903061224489796 and parameters: {'criterion': 'entropy', 'max_depth': 12, 'min_samples_split': 12, 'min_samples_leaf': 5, 'max_features': None}. Best is trial 48 with value: 0.6097250509164969.\n",
            "[I 2025-05-29 16:12:52,260] Trial 78 finished with value: 0.5496101856525885 and parameters: {'criterion': 'entropy', 'max_depth': 16, 'min_samples_split': 13, 'min_samples_leaf': 7, 'max_features': 'sqrt'}. Best is trial 48 with value: 0.6097250509164969.\n",
            "[I 2025-05-29 16:12:52,324] Trial 79 finished with value: 0.5457338873321094 and parameters: {'criterion': 'entropy', 'max_depth': 17, 'min_samples_split': 7, 'min_samples_leaf': 9, 'max_features': None}. Best is trial 48 with value: 0.6097250509164969.\n",
            "[I 2025-05-29 16:12:52,377] Trial 80 finished with value: 0.5066805684275564 and parameters: {'criterion': 'entropy', 'max_depth': 6, 'min_samples_split': 11, 'min_samples_leaf': 5, 'max_features': None}. Best is trial 48 with value: 0.6097250509164969.\n",
            "[I 2025-05-29 16:12:52,438] Trial 81 finished with value: 0.593387295925367 and parameters: {'criterion': 'entropy', 'max_depth': 15, 'min_samples_split': 9, 'min_samples_leaf': 7, 'max_features': None}. Best is trial 48 with value: 0.6097250509164969.\n",
            "[I 2025-05-29 16:12:52,501] Trial 82 finished with value: 0.5680365977971706 and parameters: {'criterion': 'entropy', 'max_depth': 15, 'min_samples_split': 8, 'min_samples_leaf': 6, 'max_features': None}. Best is trial 48 with value: 0.6097250509164969.\n",
            "[I 2025-05-29 16:12:52,564] Trial 83 finished with value: 0.5457338873321094 and parameters: {'criterion': 'entropy', 'max_depth': 16, 'min_samples_split': 10, 'min_samples_leaf': 8, 'max_features': None}. Best is trial 48 with value: 0.6097250509164969.\n",
            "[I 2025-05-29 16:12:52,625] Trial 84 finished with value: 0.5447798941559274 and parameters: {'criterion': 'entropy', 'max_depth': 14, 'min_samples_split': 6, 'min_samples_leaf': 10, 'max_features': None}. Best is trial 48 with value: 0.6097250509164969.\n",
            "[I 2025-05-29 16:12:52,685] Trial 85 finished with value: 0.5720681547331465 and parameters: {'criterion': 'entropy', 'max_depth': 13, 'min_samples_split': 9, 'min_samples_leaf': 6, 'max_features': None}. Best is trial 48 with value: 0.6097250509164969.\n",
            "[I 2025-05-29 16:12:52,752] Trial 86 finished with value: 0.5837067209775968 and parameters: {'criterion': 'entropy', 'max_depth': 16, 'min_samples_split': 9, 'min_samples_leaf': 7, 'max_features': None}. Best is trial 48 with value: 0.6097250509164969.\n",
            "[I 2025-05-29 16:12:52,823] Trial 87 finished with value: 0.5232816572918095 and parameters: {'criterion': 'entropy', 'max_depth': 14, 'min_samples_split': 7, 'min_samples_leaf': 8, 'max_features': None}. Best is trial 48 with value: 0.6097250509164969.\n",
            "[I 2025-05-29 16:12:52,871] Trial 88 finished with value: 0.4864321608040201 and parameters: {'criterion': 'entropy', 'max_depth': 11, 'min_samples_split': 10, 'min_samples_leaf': 5, 'max_features': 'sqrt'}. Best is trial 48 with value: 0.6097250509164969.\n",
            "[I 2025-05-29 16:12:52,932] Trial 89 finished with value: 0.5576883910386965 and parameters: {'criterion': 'entropy', 'max_depth': 17, 'min_samples_split': 19, 'min_samples_leaf': 9, 'max_features': None}. Best is trial 48 with value: 0.6097250509164969.\n",
            "[I 2025-05-29 16:12:52,991] Trial 90 finished with value: 0.5793661681986555 and parameters: {'criterion': 'entropy', 'max_depth': 12, 'min_samples_split': 8, 'min_samples_leaf': 7, 'max_features': None}. Best is trial 48 with value: 0.6097250509164969.\n",
            "[I 2025-05-29 16:12:53,050] Trial 91 finished with value: 0.593387295925367 and parameters: {'criterion': 'entropy', 'max_depth': 15, 'min_samples_split': 9, 'min_samples_leaf': 7, 'max_features': None}. Best is trial 48 with value: 0.6097250509164969.\n",
            "[I 2025-05-29 16:12:53,117] Trial 92 finished with value: 0.593387295925367 and parameters: {'criterion': 'entropy', 'max_depth': 15, 'min_samples_split': 9, 'min_samples_leaf': 7, 'max_features': None}. Best is trial 48 with value: 0.6097250509164969.\n",
            "[I 2025-05-29 16:12:53,199] Trial 93 finished with value: 0.5232816572918095 and parameters: {'criterion': 'entropy', 'max_depth': 15, 'min_samples_split': 8, 'min_samples_leaf': 8, 'max_features': None}. Best is trial 48 with value: 0.6097250509164969.\n",
            "[I 2025-05-29 16:12:53,262] Trial 94 finished with value: 0.5720681547331465 and parameters: {'criterion': 'entropy', 'max_depth': 13, 'min_samples_split': 12, 'min_samples_leaf': 6, 'max_features': None}. Best is trial 48 with value: 0.6097250509164969.\n",
            "[I 2025-05-29 16:12:53,314] Trial 95 finished with value: 0.48746238716148443 and parameters: {'criterion': 'entropy', 'max_depth': 3, 'min_samples_split': 10, 'min_samples_leaf': 8, 'max_features': None}. Best is trial 48 with value: 0.6097250509164969.\n",
            "[I 2025-05-29 16:12:53,375] Trial 96 finished with value: 0.6097250509164969 and parameters: {'criterion': 'entropy', 'max_depth': 14, 'min_samples_split': 11, 'min_samples_leaf': 7, 'max_features': None}. Best is trial 48 with value: 0.6097250509164969.\n",
            "[I 2025-05-29 16:12:53,437] Trial 97 finished with value: 0.5680365977971706 and parameters: {'criterion': 'entropy', 'max_depth': 14, 'min_samples_split': 11, 'min_samples_leaf': 6, 'max_features': None}. Best is trial 48 with value: 0.6097250509164969.\n",
            "[I 2025-05-29 16:12:53,498] Trial 98 finished with value: 0.5457338873321094 and parameters: {'criterion': 'entropy', 'max_depth': 13, 'min_samples_split': 13, 'min_samples_leaf': 8, 'max_features': None}. Best is trial 48 with value: 0.6097250509164969.\n",
            "[I 2025-05-29 16:12:53,560] Trial 99 finished with value: 0.5984024221341837 and parameters: {'criterion': 'entropy', 'max_depth': 14, 'min_samples_split': 14, 'min_samples_leaf': 5, 'max_features': None}. Best is trial 48 with value: 0.6097250509164969.\n"
          ]
        }
      ]
    },
    {
      "cell_type": "markdown",
      "source": [
        "## Train Final Model"
      ],
      "metadata": {
        "id": "WyzEvNFxXr0Y"
      }
    },
    {
      "cell_type": "code",
      "source": [
        "study.best_params"
      ],
      "metadata": {
        "colab": {
          "base_uri": "https://localhost:8080/"
        },
        "id": "Q6_xhYOd7OuS",
        "outputId": "2807ec7f-ac4a-4613-a1fa-e25482f95b21"
      },
      "execution_count": 27,
      "outputs": [
        {
          "output_type": "execute_result",
          "data": {
            "text/plain": [
              "{'criterion': 'entropy',\n",
              " 'max_depth': 14,\n",
              " 'min_samples_split': 9,\n",
              " 'min_samples_leaf': 7,\n",
              " 'max_features': None}"
            ]
          },
          "metadata": {},
          "execution_count": 27
        }
      ]
    },
    {
      "cell_type": "code",
      "source": [
        "model_dt = DecisionTreeClassifier(**study.best_params, random_state=42)\n",
        "model_dt.fit(X_train, y_train)"
      ],
      "metadata": {
        "colab": {
          "base_uri": "https://localhost:8080/",
          "height": 97
        },
        "id": "77Q_VzQGXtjK",
        "outputId": "e62913b4-3a53-4c8f-cb7b-2712aac7dabb"
      },
      "execution_count": 21,
      "outputs": [
        {
          "output_type": "execute_result",
          "data": {
            "text/plain": [
              "DecisionTreeClassifier(criterion='entropy', max_depth=14, min_samples_leaf=7,\n",
              "                       min_samples_split=9, random_state=42)"
            ],
            "text/html": [
              "<style>#sk-container-id-1 {\n",
              "  /* Definition of color scheme common for light and dark mode */\n",
              "  --sklearn-color-text: #000;\n",
              "  --sklearn-color-text-muted: #666;\n",
              "  --sklearn-color-line: gray;\n",
              "  /* Definition of color scheme for unfitted estimators */\n",
              "  --sklearn-color-unfitted-level-0: #fff5e6;\n",
              "  --sklearn-color-unfitted-level-1: #f6e4d2;\n",
              "  --sklearn-color-unfitted-level-2: #ffe0b3;\n",
              "  --sklearn-color-unfitted-level-3: chocolate;\n",
              "  /* Definition of color scheme for fitted estimators */\n",
              "  --sklearn-color-fitted-level-0: #f0f8ff;\n",
              "  --sklearn-color-fitted-level-1: #d4ebff;\n",
              "  --sklearn-color-fitted-level-2: #b3dbfd;\n",
              "  --sklearn-color-fitted-level-3: cornflowerblue;\n",
              "\n",
              "  /* Specific color for light theme */\n",
              "  --sklearn-color-text-on-default-background: var(--sg-text-color, var(--theme-code-foreground, var(--jp-content-font-color1, black)));\n",
              "  --sklearn-color-background: var(--sg-background-color, var(--theme-background, var(--jp-layout-color0, white)));\n",
              "  --sklearn-color-border-box: var(--sg-text-color, var(--theme-code-foreground, var(--jp-content-font-color1, black)));\n",
              "  --sklearn-color-icon: #696969;\n",
              "\n",
              "  @media (prefers-color-scheme: dark) {\n",
              "    /* Redefinition of color scheme for dark theme */\n",
              "    --sklearn-color-text-on-default-background: var(--sg-text-color, var(--theme-code-foreground, var(--jp-content-font-color1, white)));\n",
              "    --sklearn-color-background: var(--sg-background-color, var(--theme-background, var(--jp-layout-color0, #111)));\n",
              "    --sklearn-color-border-box: var(--sg-text-color, var(--theme-code-foreground, var(--jp-content-font-color1, white)));\n",
              "    --sklearn-color-icon: #878787;\n",
              "  }\n",
              "}\n",
              "\n",
              "#sk-container-id-1 {\n",
              "  color: var(--sklearn-color-text);\n",
              "}\n",
              "\n",
              "#sk-container-id-1 pre {\n",
              "  padding: 0;\n",
              "}\n",
              "\n",
              "#sk-container-id-1 input.sk-hidden--visually {\n",
              "  border: 0;\n",
              "  clip: rect(1px 1px 1px 1px);\n",
              "  clip: rect(1px, 1px, 1px, 1px);\n",
              "  height: 1px;\n",
              "  margin: -1px;\n",
              "  overflow: hidden;\n",
              "  padding: 0;\n",
              "  position: absolute;\n",
              "  width: 1px;\n",
              "}\n",
              "\n",
              "#sk-container-id-1 div.sk-dashed-wrapped {\n",
              "  border: 1px dashed var(--sklearn-color-line);\n",
              "  margin: 0 0.4em 0.5em 0.4em;\n",
              "  box-sizing: border-box;\n",
              "  padding-bottom: 0.4em;\n",
              "  background-color: var(--sklearn-color-background);\n",
              "}\n",
              "\n",
              "#sk-container-id-1 div.sk-container {\n",
              "  /* jupyter's `normalize.less` sets `[hidden] { display: none; }`\n",
              "     but bootstrap.min.css set `[hidden] { display: none !important; }`\n",
              "     so we also need the `!important` here to be able to override the\n",
              "     default hidden behavior on the sphinx rendered scikit-learn.org.\n",
              "     See: https://github.com/scikit-learn/scikit-learn/issues/21755 */\n",
              "  display: inline-block !important;\n",
              "  position: relative;\n",
              "}\n",
              "\n",
              "#sk-container-id-1 div.sk-text-repr-fallback {\n",
              "  display: none;\n",
              "}\n",
              "\n",
              "div.sk-parallel-item,\n",
              "div.sk-serial,\n",
              "div.sk-item {\n",
              "  /* draw centered vertical line to link estimators */\n",
              "  background-image: linear-gradient(var(--sklearn-color-text-on-default-background), var(--sklearn-color-text-on-default-background));\n",
              "  background-size: 2px 100%;\n",
              "  background-repeat: no-repeat;\n",
              "  background-position: center center;\n",
              "}\n",
              "\n",
              "/* Parallel-specific style estimator block */\n",
              "\n",
              "#sk-container-id-1 div.sk-parallel-item::after {\n",
              "  content: \"\";\n",
              "  width: 100%;\n",
              "  border-bottom: 2px solid var(--sklearn-color-text-on-default-background);\n",
              "  flex-grow: 1;\n",
              "}\n",
              "\n",
              "#sk-container-id-1 div.sk-parallel {\n",
              "  display: flex;\n",
              "  align-items: stretch;\n",
              "  justify-content: center;\n",
              "  background-color: var(--sklearn-color-background);\n",
              "  position: relative;\n",
              "}\n",
              "\n",
              "#sk-container-id-1 div.sk-parallel-item {\n",
              "  display: flex;\n",
              "  flex-direction: column;\n",
              "}\n",
              "\n",
              "#sk-container-id-1 div.sk-parallel-item:first-child::after {\n",
              "  align-self: flex-end;\n",
              "  width: 50%;\n",
              "}\n",
              "\n",
              "#sk-container-id-1 div.sk-parallel-item:last-child::after {\n",
              "  align-self: flex-start;\n",
              "  width: 50%;\n",
              "}\n",
              "\n",
              "#sk-container-id-1 div.sk-parallel-item:only-child::after {\n",
              "  width: 0;\n",
              "}\n",
              "\n",
              "/* Serial-specific style estimator block */\n",
              "\n",
              "#sk-container-id-1 div.sk-serial {\n",
              "  display: flex;\n",
              "  flex-direction: column;\n",
              "  align-items: center;\n",
              "  background-color: var(--sklearn-color-background);\n",
              "  padding-right: 1em;\n",
              "  padding-left: 1em;\n",
              "}\n",
              "\n",
              "\n",
              "/* Toggleable style: style used for estimator/Pipeline/ColumnTransformer box that is\n",
              "clickable and can be expanded/collapsed.\n",
              "- Pipeline and ColumnTransformer use this feature and define the default style\n",
              "- Estimators will overwrite some part of the style using the `sk-estimator` class\n",
              "*/\n",
              "\n",
              "/* Pipeline and ColumnTransformer style (default) */\n",
              "\n",
              "#sk-container-id-1 div.sk-toggleable {\n",
              "  /* Default theme specific background. It is overwritten whether we have a\n",
              "  specific estimator or a Pipeline/ColumnTransformer */\n",
              "  background-color: var(--sklearn-color-background);\n",
              "}\n",
              "\n",
              "/* Toggleable label */\n",
              "#sk-container-id-1 label.sk-toggleable__label {\n",
              "  cursor: pointer;\n",
              "  display: flex;\n",
              "  width: 100%;\n",
              "  margin-bottom: 0;\n",
              "  padding: 0.5em;\n",
              "  box-sizing: border-box;\n",
              "  text-align: center;\n",
              "  align-items: start;\n",
              "  justify-content: space-between;\n",
              "  gap: 0.5em;\n",
              "}\n",
              "\n",
              "#sk-container-id-1 label.sk-toggleable__label .caption {\n",
              "  font-size: 0.6rem;\n",
              "  font-weight: lighter;\n",
              "  color: var(--sklearn-color-text-muted);\n",
              "}\n",
              "\n",
              "#sk-container-id-1 label.sk-toggleable__label-arrow:before {\n",
              "  /* Arrow on the left of the label */\n",
              "  content: \"▸\";\n",
              "  float: left;\n",
              "  margin-right: 0.25em;\n",
              "  color: var(--sklearn-color-icon);\n",
              "}\n",
              "\n",
              "#sk-container-id-1 label.sk-toggleable__label-arrow:hover:before {\n",
              "  color: var(--sklearn-color-text);\n",
              "}\n",
              "\n",
              "/* Toggleable content - dropdown */\n",
              "\n",
              "#sk-container-id-1 div.sk-toggleable__content {\n",
              "  max-height: 0;\n",
              "  max-width: 0;\n",
              "  overflow: hidden;\n",
              "  text-align: left;\n",
              "  /* unfitted */\n",
              "  background-color: var(--sklearn-color-unfitted-level-0);\n",
              "}\n",
              "\n",
              "#sk-container-id-1 div.sk-toggleable__content.fitted {\n",
              "  /* fitted */\n",
              "  background-color: var(--sklearn-color-fitted-level-0);\n",
              "}\n",
              "\n",
              "#sk-container-id-1 div.sk-toggleable__content pre {\n",
              "  margin: 0.2em;\n",
              "  border-radius: 0.25em;\n",
              "  color: var(--sklearn-color-text);\n",
              "  /* unfitted */\n",
              "  background-color: var(--sklearn-color-unfitted-level-0);\n",
              "}\n",
              "\n",
              "#sk-container-id-1 div.sk-toggleable__content.fitted pre {\n",
              "  /* unfitted */\n",
              "  background-color: var(--sklearn-color-fitted-level-0);\n",
              "}\n",
              "\n",
              "#sk-container-id-1 input.sk-toggleable__control:checked~div.sk-toggleable__content {\n",
              "  /* Expand drop-down */\n",
              "  max-height: 200px;\n",
              "  max-width: 100%;\n",
              "  overflow: auto;\n",
              "}\n",
              "\n",
              "#sk-container-id-1 input.sk-toggleable__control:checked~label.sk-toggleable__label-arrow:before {\n",
              "  content: \"▾\";\n",
              "}\n",
              "\n",
              "/* Pipeline/ColumnTransformer-specific style */\n",
              "\n",
              "#sk-container-id-1 div.sk-label input.sk-toggleable__control:checked~label.sk-toggleable__label {\n",
              "  color: var(--sklearn-color-text);\n",
              "  background-color: var(--sklearn-color-unfitted-level-2);\n",
              "}\n",
              "\n",
              "#sk-container-id-1 div.sk-label.fitted input.sk-toggleable__control:checked~label.sk-toggleable__label {\n",
              "  background-color: var(--sklearn-color-fitted-level-2);\n",
              "}\n",
              "\n",
              "/* Estimator-specific style */\n",
              "\n",
              "/* Colorize estimator box */\n",
              "#sk-container-id-1 div.sk-estimator input.sk-toggleable__control:checked~label.sk-toggleable__label {\n",
              "  /* unfitted */\n",
              "  background-color: var(--sklearn-color-unfitted-level-2);\n",
              "}\n",
              "\n",
              "#sk-container-id-1 div.sk-estimator.fitted input.sk-toggleable__control:checked~label.sk-toggleable__label {\n",
              "  /* fitted */\n",
              "  background-color: var(--sklearn-color-fitted-level-2);\n",
              "}\n",
              "\n",
              "#sk-container-id-1 div.sk-label label.sk-toggleable__label,\n",
              "#sk-container-id-1 div.sk-label label {\n",
              "  /* The background is the default theme color */\n",
              "  color: var(--sklearn-color-text-on-default-background);\n",
              "}\n",
              "\n",
              "/* On hover, darken the color of the background */\n",
              "#sk-container-id-1 div.sk-label:hover label.sk-toggleable__label {\n",
              "  color: var(--sklearn-color-text);\n",
              "  background-color: var(--sklearn-color-unfitted-level-2);\n",
              "}\n",
              "\n",
              "/* Label box, darken color on hover, fitted */\n",
              "#sk-container-id-1 div.sk-label.fitted:hover label.sk-toggleable__label.fitted {\n",
              "  color: var(--sklearn-color-text);\n",
              "  background-color: var(--sklearn-color-fitted-level-2);\n",
              "}\n",
              "\n",
              "/* Estimator label */\n",
              "\n",
              "#sk-container-id-1 div.sk-label label {\n",
              "  font-family: monospace;\n",
              "  font-weight: bold;\n",
              "  display: inline-block;\n",
              "  line-height: 1.2em;\n",
              "}\n",
              "\n",
              "#sk-container-id-1 div.sk-label-container {\n",
              "  text-align: center;\n",
              "}\n",
              "\n",
              "/* Estimator-specific */\n",
              "#sk-container-id-1 div.sk-estimator {\n",
              "  font-family: monospace;\n",
              "  border: 1px dotted var(--sklearn-color-border-box);\n",
              "  border-radius: 0.25em;\n",
              "  box-sizing: border-box;\n",
              "  margin-bottom: 0.5em;\n",
              "  /* unfitted */\n",
              "  background-color: var(--sklearn-color-unfitted-level-0);\n",
              "}\n",
              "\n",
              "#sk-container-id-1 div.sk-estimator.fitted {\n",
              "  /* fitted */\n",
              "  background-color: var(--sklearn-color-fitted-level-0);\n",
              "}\n",
              "\n",
              "/* on hover */\n",
              "#sk-container-id-1 div.sk-estimator:hover {\n",
              "  /* unfitted */\n",
              "  background-color: var(--sklearn-color-unfitted-level-2);\n",
              "}\n",
              "\n",
              "#sk-container-id-1 div.sk-estimator.fitted:hover {\n",
              "  /* fitted */\n",
              "  background-color: var(--sklearn-color-fitted-level-2);\n",
              "}\n",
              "\n",
              "/* Specification for estimator info (e.g. \"i\" and \"?\") */\n",
              "\n",
              "/* Common style for \"i\" and \"?\" */\n",
              "\n",
              ".sk-estimator-doc-link,\n",
              "a:link.sk-estimator-doc-link,\n",
              "a:visited.sk-estimator-doc-link {\n",
              "  float: right;\n",
              "  font-size: smaller;\n",
              "  line-height: 1em;\n",
              "  font-family: monospace;\n",
              "  background-color: var(--sklearn-color-background);\n",
              "  border-radius: 1em;\n",
              "  height: 1em;\n",
              "  width: 1em;\n",
              "  text-decoration: none !important;\n",
              "  margin-left: 0.5em;\n",
              "  text-align: center;\n",
              "  /* unfitted */\n",
              "  border: var(--sklearn-color-unfitted-level-1) 1pt solid;\n",
              "  color: var(--sklearn-color-unfitted-level-1);\n",
              "}\n",
              "\n",
              ".sk-estimator-doc-link.fitted,\n",
              "a:link.sk-estimator-doc-link.fitted,\n",
              "a:visited.sk-estimator-doc-link.fitted {\n",
              "  /* fitted */\n",
              "  border: var(--sklearn-color-fitted-level-1) 1pt solid;\n",
              "  color: var(--sklearn-color-fitted-level-1);\n",
              "}\n",
              "\n",
              "/* On hover */\n",
              "div.sk-estimator:hover .sk-estimator-doc-link:hover,\n",
              ".sk-estimator-doc-link:hover,\n",
              "div.sk-label-container:hover .sk-estimator-doc-link:hover,\n",
              ".sk-estimator-doc-link:hover {\n",
              "  /* unfitted */\n",
              "  background-color: var(--sklearn-color-unfitted-level-3);\n",
              "  color: var(--sklearn-color-background);\n",
              "  text-decoration: none;\n",
              "}\n",
              "\n",
              "div.sk-estimator.fitted:hover .sk-estimator-doc-link.fitted:hover,\n",
              ".sk-estimator-doc-link.fitted:hover,\n",
              "div.sk-label-container:hover .sk-estimator-doc-link.fitted:hover,\n",
              ".sk-estimator-doc-link.fitted:hover {\n",
              "  /* fitted */\n",
              "  background-color: var(--sklearn-color-fitted-level-3);\n",
              "  color: var(--sklearn-color-background);\n",
              "  text-decoration: none;\n",
              "}\n",
              "\n",
              "/* Span, style for the box shown on hovering the info icon */\n",
              ".sk-estimator-doc-link span {\n",
              "  display: none;\n",
              "  z-index: 9999;\n",
              "  position: relative;\n",
              "  font-weight: normal;\n",
              "  right: .2ex;\n",
              "  padding: .5ex;\n",
              "  margin: .5ex;\n",
              "  width: min-content;\n",
              "  min-width: 20ex;\n",
              "  max-width: 50ex;\n",
              "  color: var(--sklearn-color-text);\n",
              "  box-shadow: 2pt 2pt 4pt #999;\n",
              "  /* unfitted */\n",
              "  background: var(--sklearn-color-unfitted-level-0);\n",
              "  border: .5pt solid var(--sklearn-color-unfitted-level-3);\n",
              "}\n",
              "\n",
              ".sk-estimator-doc-link.fitted span {\n",
              "  /* fitted */\n",
              "  background: var(--sklearn-color-fitted-level-0);\n",
              "  border: var(--sklearn-color-fitted-level-3);\n",
              "}\n",
              "\n",
              ".sk-estimator-doc-link:hover span {\n",
              "  display: block;\n",
              "}\n",
              "\n",
              "/* \"?\"-specific style due to the `<a>` HTML tag */\n",
              "\n",
              "#sk-container-id-1 a.estimator_doc_link {\n",
              "  float: right;\n",
              "  font-size: 1rem;\n",
              "  line-height: 1em;\n",
              "  font-family: monospace;\n",
              "  background-color: var(--sklearn-color-background);\n",
              "  border-radius: 1rem;\n",
              "  height: 1rem;\n",
              "  width: 1rem;\n",
              "  text-decoration: none;\n",
              "  /* unfitted */\n",
              "  color: var(--sklearn-color-unfitted-level-1);\n",
              "  border: var(--sklearn-color-unfitted-level-1) 1pt solid;\n",
              "}\n",
              "\n",
              "#sk-container-id-1 a.estimator_doc_link.fitted {\n",
              "  /* fitted */\n",
              "  border: var(--sklearn-color-fitted-level-1) 1pt solid;\n",
              "  color: var(--sklearn-color-fitted-level-1);\n",
              "}\n",
              "\n",
              "/* On hover */\n",
              "#sk-container-id-1 a.estimator_doc_link:hover {\n",
              "  /* unfitted */\n",
              "  background-color: var(--sklearn-color-unfitted-level-3);\n",
              "  color: var(--sklearn-color-background);\n",
              "  text-decoration: none;\n",
              "}\n",
              "\n",
              "#sk-container-id-1 a.estimator_doc_link.fitted:hover {\n",
              "  /* fitted */\n",
              "  background-color: var(--sklearn-color-fitted-level-3);\n",
              "}\n",
              "</style><div id=\"sk-container-id-1\" class=\"sk-top-container\"><div class=\"sk-text-repr-fallback\"><pre>DecisionTreeClassifier(criterion=&#x27;entropy&#x27;, max_depth=14, min_samples_leaf=7,\n",
              "                       min_samples_split=9, random_state=42)</pre><b>In a Jupyter environment, please rerun this cell to show the HTML representation or trust the notebook. <br />On GitHub, the HTML representation is unable to render, please try loading this page with nbviewer.org.</b></div><div class=\"sk-container\" hidden><div class=\"sk-item\"><div class=\"sk-estimator fitted sk-toggleable\"><input class=\"sk-toggleable__control sk-hidden--visually\" id=\"sk-estimator-id-1\" type=\"checkbox\" checked><label for=\"sk-estimator-id-1\" class=\"sk-toggleable__label fitted sk-toggleable__label-arrow\"><div><div>DecisionTreeClassifier</div></div><div><a class=\"sk-estimator-doc-link fitted\" rel=\"noreferrer\" target=\"_blank\" href=\"https://scikit-learn.org/1.6/modules/generated/sklearn.tree.DecisionTreeClassifier.html\">?<span>Documentation for DecisionTreeClassifier</span></a><span class=\"sk-estimator-doc-link fitted\">i<span>Fitted</span></span></div></label><div class=\"sk-toggleable__content fitted\"><pre>DecisionTreeClassifier(criterion=&#x27;entropy&#x27;, max_depth=14, min_samples_leaf=7,\n",
              "                       min_samples_split=9, random_state=42)</pre></div> </div></div></div></div>"
            ]
          },
          "metadata": {},
          "execution_count": 21
        }
      ]
    },
    {
      "cell_type": "markdown",
      "source": [
        "# **Evaluasi**"
      ],
      "metadata": {
        "id": "9LjODNMEYJgI"
      }
    },
    {
      "cell_type": "code",
      "source": [
        "y_pred = model_dt.predict(X_test)\n",
        "y_proba = model_dt.predict_proba(X_test)[:, 1]"
      ],
      "metadata": {
        "id": "uHDUOzlwXWtW"
      },
      "execution_count": 22,
      "outputs": []
    },
    {
      "cell_type": "markdown",
      "source": [
        "## Classification Report"
      ],
      "metadata": {
        "id": "kW8U2KwliKpG"
      }
    },
    {
      "cell_type": "code",
      "source": [
        "print(classification_report(y_test, y_pred, target_names=[\"Non-Stroke\", \"Stroke\"]))"
      ],
      "metadata": {
        "colab": {
          "base_uri": "https://localhost:8080/"
        },
        "id": "_zIL7FNqYLIh",
        "outputId": "b05b9234-337f-489f-edf6-779108438043"
      },
      "execution_count": 23,
      "outputs": [
        {
          "output_type": "stream",
          "name": "stdout",
          "text": [
            "              precision    recall  f1-score   support\n",
            "\n",
            "  Non-Stroke       0.96      0.98      0.97       972\n",
            "      Stroke       0.33      0.20      0.25        50\n",
            "\n",
            "    accuracy                           0.94      1022\n",
            "   macro avg       0.65      0.59      0.61      1022\n",
            "weighted avg       0.93      0.94      0.93      1022\n",
            "\n"
          ]
        }
      ]
    },
    {
      "cell_type": "markdown",
      "source": [
        "## Confusion Matrix"
      ],
      "metadata": {
        "id": "8_-_oGVMiHwN"
      }
    },
    {
      "cell_type": "code",
      "source": [
        "ConfusionMatrixDisplay.from_predictions(y_test, y_pred, display_labels=[\"Non-Stroke\", \"Stroke\"])\n",
        "plt.title(\"Confusion Matrix\")\n",
        "plt.show()"
      ],
      "metadata": {
        "colab": {
          "base_uri": "https://localhost:8080/",
          "height": 472
        },
        "id": "aTQHjcL4bIr1",
        "outputId": "609d0caf-5494-4324-bb4c-e5f70c788ce2"
      },
      "execution_count": 24,
      "outputs": [
        {
          "output_type": "display_data",
          "data": {
            "text/plain": [
              "<Figure size 640x480 with 2 Axes>"
            ],
            "image/png": "[encoded data removed]"
          },
          "metadata": {}
        }
      ]
    },
    {
      "cell_type": "markdown",
      "source": [
        "## Kurva ROC"
      ],
      "metadata": {
        "id": "5GQXZz70iFG3"
      }
    },
    {
      "cell_type": "code",
      "source": [
        "fpr, tpr, _ = roc_curve(y_test, y_proba)\n",
        "\n",
        "plt.figure(figsize=(6, 4))\n",
        "plt.plot(fpr, tpr, label=f'ROC AUC = {roc_auc_score(y_test, y_proba):.2f}')\n",
        "plt.plot([0, 1], [0, 1], linestyle='--', color='gray')\n",
        "plt.xlabel('False Positive Rate')\n",
        "plt.ylabel('True Positive Rate')\n",
        "plt.title('ROC Curve - Decision Tree (Stroke Classification)')\n",
        "plt.legend()\n",
        "plt.grid()\n",
        "plt.show()"
      ],
      "metadata": {
        "colab": {
          "base_uri": "https://localhost:8080/",
          "height": 410
        },
        "id": "l6YAWyO8bRw-",
        "outputId": "299f633c-d689-43d6-e1d0-d3f18956f27d"
      },
      "execution_count": 26,
      "outputs": [
        {
          "output_type": "display_data",
          "data": {
            "text/plain": [
              "<Figure size 600x400 with 1 Axes>"
            ],
            "image/png": "[encoded data removed]"
          },
          "metadata": {}
        }
      ]
    },
    {
      "cell_type": "code",
      "source": [],
      "metadata": {
        "id": "q1QSPEj5bUG5"
      },
      "execution_count": null,
      "outputs": []
    }
  ]
}